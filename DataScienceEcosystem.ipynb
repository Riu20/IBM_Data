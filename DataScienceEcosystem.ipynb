{
  "metadata": {
    "kernelspec": {
      "name": "python",
      "display_name": "Python (Pyodide)",
      "language": "python"
    },
    "language_info": {
      "codemirror_mode": {
        "name": "python",
        "version": 3
      },
      "file_extension": ".py",
      "mimetype": "text/x-python",
      "name": "python",
      "nbconvert_exporter": "python",
      "pygments_lexer": "ipython3",
      "version": "3.8"
    }
  },
  "nbformat_minor": 4,
  "nbformat": 4,
  "cells": [
    {
      "cell_type": "markdown",
      "source": "__Exercise 1: Create a Jupyter Notebook__",
      "metadata": {}
    },
    {
      "cell_type": "markdown",
      "source": "__Exercise 2: Create a markdown cell with the title of the notebook__",
      "metadata": {}
    },
    {
      "cell_type": "markdown",
      "source": "Data Science Tools and Ecosystem",
      "metadata": {}
    },
    {
      "cell_type": "markdown",
      "source": "__Exercise 3: Create a markdown cell for an introduction__",
      "metadata": {}
    },
    {
      "cell_type": "markdown",
      "source": "In this notebook, Data Science Tools and Ecosystem are summarized.\r\n",
      "metadata": {}
    },
    {
      "cell_type": "markdown",
      "source": "__Exercise 4: Create a markdown cell to list data science languages__",
      "metadata": {}
    },
    {
      "cell_type": "markdown",
      "source": "Some of the popular languages that Data Scientists use are:\r\n1. Python\r\n2. R\r\n3. Julia\r\n",
      "metadata": {}
    },
    {
      "cell_type": "markdown",
      "source": "__Exercise 5: Create a markdown cell to list data science libraries__",
      "metadata": {}
    },
    {
      "cell_type": "markdown",
      "source": "Some of the commonly used libraries used by Data Scientists include:\r\n1. Pandas\r\n2. NumPy\r\n3. Matplotlib\r\n",
      "metadata": {}
    },
    {
      "cell_type": "markdown",
      "source": "__Exercise 6: Create a markdown cell with a table of Data Science tools__",
      "metadata": {}
    },
    {
      "cell_type": "markdown",
      "source": "| Data Science Tools |\r\n|--------------------|\r\n| Jupyter Notebooks  |\r\n| RStudio            |\r\n| VS Code            |\r\n",
      "metadata": {}
    },
    {
      "cell_type": "markdown",
      "source": "__Exercise 7: Create a markdown cell introducing arithmetic expression examples__",
      "metadata": {}
    },
    {
      "cell_type": "markdown",
      "source": "### Below are a few examples of evaluating arithmetic expressions in Python.\r\n",
      "metadata": {}
    },
    {
      "cell_type": "markdown",
      "source": "__Exercise 8: Create a code cell to multiply and add numbers__",
      "metadata": {}
    },
    {
      "cell_type": "code",
      "source": "# This is a simple arithmetic expression to multiply then add integers.\nresult = (3 * 4) + 5\nresult\n",
      "metadata": {
        "trusted": true
      },
      "outputs": [
        {
          "execution_count": 1,
          "output_type": "execute_result",
          "data": {
            "text/plain": "17"
          },
          "metadata": {}
        }
      ],
      "execution_count": 1
    },
    {
      "cell_type": "markdown",
      "source": "__Exercise 9: Create a code cell to convert minutes to hours__",
      "metadata": {}
    },
    {
      "cell_type": "code",
      "source": "# This will convert 200 minutes to hours by dividing by 60.\nhours = 200 / 60\nhours\n",
      "metadata": {
        "trusted": true
      },
      "outputs": [
        {
          "execution_count": 2,
          "output_type": "execute_result",
          "data": {
            "text/plain": "3.3333333333333335"
          },
          "metadata": {}
        }
      ],
      "execution_count": 2
    },
    {
      "cell_type": "markdown",
      "source": "__Exercise 10: Insert a markdown cell to list Objectives__",
      "metadata": {}
    },
    {
      "cell_type": "markdown",
      "source": "**Objectives:**\r\n- List popular languages for Data Science.\r\n- Introduce common libraries in Data Science.\r\n- Explore key Data Science tools.\r\n",
      "metadata": {}
    },
    {
      "cell_type": "markdown",
      "source": "__Exercise 11: Create a markdown cell to indicate the Author's name__",
      "metadata": {}
    },
    {
      "cell_type": "markdown",
      "source": "## Author\rRiya Gupta\r\n",
      "metadata": {}
    },
    {
      "cell_type": "code",
      "source": "",
      "metadata": {
        "trusted": true
      },
      "outputs": [],
      "execution_count": null
    }
  ]
}